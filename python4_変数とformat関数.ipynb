{
  "nbformat": 4,
  "nbformat_minor": 0,
  "metadata": {
    "colab": {
      "name": "python4 変数とformat関数.ipynb",
      "provenance": [],
      "collapsed_sections": [],
      "authorship_tag": "ABX9TyPN03H4RoxxQyLCXPekR/6k",
      "include_colab_link": true
    },
    "kernelspec": {
      "name": "python3",
      "display_name": "Python 3"
    },
    "language_info": {
      "name": "python"
    }
  },
  "cells": [
    {
      "cell_type": "markdown",
      "metadata": {
        "id": "view-in-github",
        "colab_type": "text"
      },
      "source": [
        "<a href=\"https://colab.research.google.com/github/yskkwi/hello-github/blob/master/python4_%E5%A4%89%E6%95%B0%E3%81%A8format%E9%96%A2%E6%95%B0.ipynb\" target=\"_parent\"><img src=\"https://colab.research.google.com/assets/colab-badge.svg\" alt=\"Open In Colab\"/></a>"
      ]
    },
    {
      "cell_type": "code",
      "execution_count": null,
      "metadata": {
        "colab": {
          "base_uri": "https://localhost:8080/"
        },
        "id": "3sOqVHzW0oh1",
        "outputId": "b1d8dc7b-24f8-4ce1-cd07-973e7b61a37a"
      },
      "outputs": [
        {
          "output_type": "stream",
          "name": "stdout",
          "text": [
            "朝は\n",
            "寒い\n",
            "朝は寒い\n",
            "朝は眠い\n",
            "朝は朝は朝は\n"
          ]
        }
      ],
      "source": [
        "# str型の関数\n",
        "\n",
        "a_str = '朝は'\n",
        "print(a_str)\n",
        "b_str = '寒い'\n",
        "print(b_str)\n",
        "\n",
        "print(a_str + b_str)\n",
        "\n",
        "print(a_str + '眠い')\n",
        "\n",
        "print(a_str * 3)"
      ]
    },
    {
      "cell_type": "code",
      "source": [
        "# int型の関数\n",
        "\n",
        "a=2\n",
        "print(a)\n",
        "\n",
        "b=3\n",
        "print(b)\n",
        "\n",
        "c=4\n",
        "print(c)\n",
        "\n",
        "print(a+b*c)\n",
        "\n",
        "print(str(a) + ' + ' + str(b) + ' = '+ str(a+b))\n",
        "\n",
        "print('a' + '+' + 'b' + '=' + 'a+b')\n"
      ],
      "metadata": {
        "colab": {
          "base_uri": "https://localhost:8080/"
        },
        "id": "HaZObOwM1n8A",
        "outputId": "8086e921-1d29-4265-e6bc-1f996ec8917a"
      },
      "execution_count": null,
      "outputs": [
        {
          "output_type": "stream",
          "name": "stdout",
          "text": [
            "2\n",
            "3\n",
            "4\n",
            "14\n",
            "2 + 3 = 5\n",
            "a+b=a+b\n"
          ]
        }
      ]
    },
    {
      "cell_type": "code",
      "source": [
        "# format関数　は　次のように使う\n",
        "\n",
        "print('{0} + {1} = {2}'.format(a,b,a+b))"
      ],
      "metadata": {
        "colab": {
          "base_uri": "https://localhost:8080/"
        },
        "id": "GaLX5OUy2_RR",
        "outputId": "ca4bbb53-28b6-4f7b-9097-67dac0bd6bf7"
      },
      "execution_count": null,
      "outputs": [
        {
          "output_type": "stream",
          "name": "stdout",
          "text": [
            "2 + 3 = 5\n"
          ]
        }
      ]
    },
    {
      "cell_type": "code",
      "source": [
        "# 次のようにも使える\n",
        "\n",
        "print('{ai} + {bii} = {ciii}'.format(ai=a,bii=b,ciii=a+b))"
      ],
      "metadata": {
        "colab": {
          "base_uri": "https://localhost:8080/"
        },
        "id": "R2zw7TUd4mHj",
        "outputId": "d9c2675b-0394-4977-973f-25455f07e266"
      },
      "execution_count": null,
      "outputs": [
        {
          "output_type": "stream",
          "name": "stdout",
          "text": [
            "2 + 3 = 5\n"
          ]
        }
      ]
    },
    {
      "cell_type": "code",
      "source": [
        "print('Depth:{0} * Width:{1} * Height:{2} = Cubic:{3}'.format(a,b,c,a*b*c))"
      ],
      "metadata": {
        "colab": {
          "base_uri": "https://localhost:8080/"
        },
        "id": "cU531IFp5z8V",
        "outputId": "a903e887-aa4f-4b3e-820e-9b97bd319d9d"
      },
      "execution_count": null,
      "outputs": [
        {
          "output_type": "stream",
          "name": "stdout",
          "text": [
            "Depth:2 * Width:3 * Height:4 = Cubic:24\n"
          ]
        }
      ]
    },
    {
      "cell_type": "code",
      "source": [
        "print(\"index0 5桁 = {0:05d}, index1 6桁 = {1:06d}\".format(43, 876))"
      ],
      "metadata": {
        "colab": {
          "base_uri": "https://localhost:8080/"
        },
        "id": "2QJi9T9z-VTe",
        "outputId": "f70035ad-58d8-4be6-9fa8-436ccdad8394"
      },
      "execution_count": null,
      "outputs": [
        {
          "output_type": "stream",
          "name": "stdout",
          "text": [
            "index0 5桁 = 00043, index1 6桁 = 000876\n"
          ]
        }
      ]
    }
  ]
}